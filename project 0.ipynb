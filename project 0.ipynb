{
 "cells": [
  {
   "cell_type": "code",
   "execution_count": 2,
   "metadata": {},
   "outputs": [
    {
     "name": "stdout",
     "output_type": "stream",
     "text": [
      "Загадано число от 1 до 99\n",
      "15\n",
      "Угадываемое число больше 15 \n",
      "6\n",
      "Угадываемое число больше 6 \n",
      "98\n",
      "Угадываемое число меньше 98 \n",
      "6\n",
      "Угадываемое число больше 6 \n",
      "8\n",
      "Угадываемое число больше 8 \n",
      "11\n",
      "Угадываемое число больше 11 \n",
      "13\n",
      "Угадываемое число больше 13 \n",
      "14\n",
      "Угадываемое число больше 14 \n",
      "15\n",
      "Угадываемое число больше 15 \n",
      "16\n",
      "Угадываемое число больше 16 \n",
      "19\n",
      "Угадываемое число больше 19 \n",
      "23\n",
      "Угадываемое число больше 23 \n",
      "50\n",
      "Угадываемое число меньше 50 \n",
      "47\n",
      "Угадываемое число меньше 47 \n",
      "40\n",
      "Угадываемое число меньше 40 \n",
      "30\n",
      "Угадываемое число меньше 30 \n",
      "27\n",
      "Угадываемое число меньше 27 \n",
      "26\n",
      "Угадываемое число меньше 26 \n",
      "25\n",
      "Угадываемое число меньше 25 \n",
      "24\n",
      "Вы угадали число 24 за 20 попыток.\n"
     ]
    }
   ],
   "source": [
    "import numpy as np\n",
    "count = 0                            # счетчик попыток\n",
    "number = np.random.randint(1,100)    # загадали число\n",
    "print (\"Загадано число от 1 до 99\")\n",
    "\n",
    "while True:                        # бесконечный цикл\n",
    "    predict = int(input())         # предполагаемое число\n",
    "    count += 1                     # плюсуем попытку\n",
    "    if number == predict: break    # выход из цикла, если угадали\n",
    "    elif number > predict: print (f\"Угадываемое число больше {predict} \")\n",
    "    elif number < predict: print (f\"Угадываемое число меньше {predict} \")\n",
    "        \n",
    "print (f\"Вы угадали число {number} за {count} попыток.\")"
   ]
  },
  {
   "cell_type": "code",
   "execution_count": null,
   "metadata": {},
   "outputs": [],
   "source": []
  }
 ],
 "metadata": {
  "kernelspec": {
   "display_name": "Python 3",
   "language": "python",
   "name": "python3"
  },
  "language_info": {
   "codemirror_mode": {
    "name": "ipython",
    "version": 3
   },
   "file_extension": ".py",
   "mimetype": "text/x-python",
   "name": "python",
   "nbconvert_exporter": "python",
   "pygments_lexer": "ipython3",
   "version": "3.7.6"
  }
 },
 "nbformat": 4,
 "nbformat_minor": 4
}
